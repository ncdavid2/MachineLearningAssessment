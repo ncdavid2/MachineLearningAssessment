{
 "cells": [
  {
   "cell_type": "code",
   "id": "initial_id",
   "metadata": {
    "collapsed": true,
    "ExecuteTime": {
     "end_time": "2024-10-28T14:54:31.724191Z",
     "start_time": "2024-10-28T14:54:31.716197Z"
    }
   },
   "source": [
    "import pandas as pd\n",
    "\n",
    "file_path = 'personal_finance_employees_V1.csv'\n",
    "finance_data = pd.read_csv(file_path)\n",
    "\n",
    "df = pd.read_csv(file_path)\n",
    "\n",
    "# Calculate the mean of the \"Water Bill (£)\" column, ignoring NaN values\n",
    "water_bill_avg = finance_data['Water Bill (£)'].mean()\n",
    "\n",
    "# Fill NaN values in \"Water Bill (£)\" with the calculated average\n",
    "finance_data['Water Bill (£)'] = finance_data['Water Bill (£)'].fillna(water_bill_avg)\n",
    "\n",
    "finance_data['Water Bill (£)'].isnull().sum()\n",
    "\n",
    "print(df.head())"
   ],
   "outputs": [
    {
     "name": "stdout",
     "output_type": "stream",
     "text": [
      "     Employee  Monthly Income (£)  Electricity Bill (£)  Gas Bill (£)  \\\n",
      "0  Employee_1             4999.39            120.000000       80.0000   \n",
      "1  Employee_2             4660.24            120.000000       80.0000   \n",
      "2  Employee_3             1942.89            124.679456       98.1346   \n",
      "3  Employee_4             3565.80            120.000000       80.0000   \n",
      "4  Employee_5             5121.99            120.000000       80.0000   \n",
      "\n",
      "   Netflix (£)  Amazon Prime (£)  Groceries (£)  Transportation (£)  \\\n",
      "0           12              4.99      239.69000           149.11000   \n",
      "1           12              4.99      226.24000           197.23000   \n",
      "2           12              4.99      333.77745           201.27956   \n",
      "3           12              4.99      213.04000           154.67000   \n",
      "4           12              4.99      182.56000           190.71000   \n",
      "\n",
      "   Water Bill (£)  Sky Sports (£)  Other Expenses (£)  \\\n",
      "0            40.0            70.0          100.000000   \n",
      "1             NaN            70.0          100.000000   \n",
      "2             NaN            70.0          125.770693   \n",
      "3             NaN             NaN          100.000000   \n",
      "4             NaN            70.0          100.000000   \n",
      "\n",
      "   Savings for Property (£)  Monthly Outing (£)  \n",
      "0                     300.0               120.0  \n",
      "1                     300.0               120.0  \n",
      "2                       NaN               120.0  \n",
      "3                     300.0               120.0  \n",
      "4                     300.0                 NaN  \n"
     ]
    }
   ],
   "execution_count": 8
  }
 ],
 "metadata": {
  "kernelspec": {
   "display_name": "Python 3",
   "language": "python",
   "name": "python3"
  },
  "language_info": {
   "codemirror_mode": {
    "name": "ipython",
    "version": 2
   },
   "file_extension": ".py",
   "mimetype": "text/x-python",
   "name": "python",
   "nbconvert_exporter": "python",
   "pygments_lexer": "ipython2",
   "version": "2.7.6"
  }
 },
 "nbformat": 4,
 "nbformat_minor": 5
}
